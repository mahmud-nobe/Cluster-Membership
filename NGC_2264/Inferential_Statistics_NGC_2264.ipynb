{
  "nbformat": 4,
  "nbformat_minor": 0,
  "metadata": {
    "kernelspec": {
      "display_name": "Python 3",
      "language": "python",
      "name": "python3"
    },
    "language_info": {
      "codemirror_mode": {
        "name": "ipython",
        "version": 3
      },
      "file_extension": ".py",
      "mimetype": "text/x-python",
      "name": "python",
      "nbconvert_exporter": "python",
      "pygments_lexer": "ipython3",
      "version": "3.6.8"
    },
    "latex_envs": {
      "LaTeX_envs_menu_present": true,
      "autoclose": false,
      "autocomplete": true,
      "bibliofile": "biblio.bib",
      "cite_by": "apalike",
      "current_citInitial": 1,
      "eqLabelWithNumbers": true,
      "eqNumInitial": 1,
      "hotkeys": {
        "equation": "Ctrl-E",
        "itemize": "Ctrl-I"
      },
      "labels_anchors": false,
      "latex_user_defs": false,
      "report_style_numbering": false,
      "user_envs_cfg": false
    },
    "colab": {
      "name": "Inferential_Statistics_NGC_2264.ipynb",
      "provenance": [],
      "toc_visible": true,
      "include_colab_link": true
    }
  },
  "cells": [
    {
      "cell_type": "markdown",
      "metadata": {
        "id": "view-in-github",
        "colab_type": "text"
      },
      "source": [
        "<a href=\"https://colab.research.google.com/github/mahmud-nobe/Cluster-Membership/blob/master/NGC_2264/Inferential_Statistics_NGC_2264.ipynb\" target=\"_parent\"><img src=\"https://colab.research.google.com/assets/colab-badge.svg\" alt=\"Open In Colab\"/></a>"
      ]
    },
    {
      "cell_type": "code",
      "metadata": {
        "id": "OUbDWFP6L7_R",
        "colab_type": "code",
        "colab": {}
      },
      "source": [
        ""
      ],
      "execution_count": null,
      "outputs": []
    },
    {
      "cell_type": "markdown",
      "metadata": {
        "id": "RUxthIRAL0m-",
        "colab_type": "text"
      },
      "source": [
        "#### Import and Examine the test sets"
      ]
    },
    {
      "cell_type": "code",
      "metadata": {
        "id": "1xHypGeT2PIP",
        "colab_type": "code",
        "colab": {}
      },
      "source": [
        "#import relevent packages and libraries\n",
        "import pandas as pd\n",
        "import numpy as np\n",
        "import scipy as sc\n",
        "from scipy import stats\n",
        "import matplotlib.pyplot as plt\n",
        "plt.rcParams.update({'font.size':14})"
      ],
      "execution_count": 2,
      "outputs": []
    },
    {
      "cell_type": "code",
      "metadata": {
        "id": "9fx9D7UM2PIZ",
        "colab_type": "code",
        "colab": {}
      },
      "source": [
        "central_region = pd.read_csv('https://raw.githubusercontent.com/mahmud-nobe/Cluster-Membership/master/NGC_2264/NGC_2264_test_set_2.2.csv')\n",
        "lower_region = pd.read_csv('https://raw.githubusercontent.com/mahmud-nobe/Cluster-Membership/master/NGC_2264/NGC_2264_test_set_3.2.csv')"
      ],
      "execution_count": 3,
      "outputs": []
    },
    {
      "cell_type": "code",
      "metadata": {
        "id": "t49r9x1p2PIe",
        "colab_type": "code",
        "colab": {
          "base_uri": "https://localhost:8080/",
          "height": 338
        },
        "outputId": "45ed8f90-d4be-4a7b-bbf2-94f9a0943298"
      },
      "source": [
        "ngc_2264 = pd.concat([central_region.assign(region = 'central'), lower_region.assign(region = 'lower')])\n",
        "ngc_2264.head()"
      ],
      "execution_count": 4,
      "outputs": [
        {
          "output_type": "execute_result",
          "data": {
            "text/html": [
              "<div>\n",
              "<style scoped>\n",
              "    .dataframe tbody tr th:only-of-type {\n",
              "        vertical-align: middle;\n",
              "    }\n",
              "\n",
              "    .dataframe tbody tr th {\n",
              "        vertical-align: top;\n",
              "    }\n",
              "\n",
              "    .dataframe thead th {\n",
              "        text-align: right;\n",
              "    }\n",
              "</style>\n",
              "<table border=\"1\" class=\"dataframe\">\n",
              "  <thead>\n",
              "    <tr style=\"text-align: right;\">\n",
              "      <th></th>\n",
              "      <th>col1</th>\n",
              "      <th>solution_id</th>\n",
              "      <th>designation</th>\n",
              "      <th>source_id</th>\n",
              "      <th>random_index</th>\n",
              "      <th>ref_epoch</th>\n",
              "      <th>ra</th>\n",
              "      <th>ra_error</th>\n",
              "      <th>dec</th>\n",
              "      <th>dec_error</th>\n",
              "      <th>parallax</th>\n",
              "      <th>parallax_error</th>\n",
              "      <th>parallax_over_error</th>\n",
              "      <th>pmra</th>\n",
              "      <th>pmra_error</th>\n",
              "      <th>pmdec</th>\n",
              "      <th>pmdec_error</th>\n",
              "      <th>ra_dec_corr</th>\n",
              "      <th>ra_parallax_corr</th>\n",
              "      <th>ra_pmra_corr</th>\n",
              "      <th>ra_pmdec_corr</th>\n",
              "      <th>dec_parallax_corr</th>\n",
              "      <th>dec_pmra_corr</th>\n",
              "      <th>dec_pmdec_corr</th>\n",
              "      <th>parallax_pmra_corr</th>\n",
              "      <th>parallax_pmdec_corr</th>\n",
              "      <th>pmra_pmdec_corr</th>\n",
              "      <th>astrometric_n_obs_al</th>\n",
              "      <th>astrometric_n_obs_ac</th>\n",
              "      <th>astrometric_n_good_obs_al</th>\n",
              "      <th>astrometric_n_bad_obs_al</th>\n",
              "      <th>astrometric_gof_al</th>\n",
              "      <th>astrometric_chi2_al</th>\n",
              "      <th>astrometric_excess_noise</th>\n",
              "      <th>astrometric_excess_noise_sig</th>\n",
              "      <th>astrometric_params_solved</th>\n",
              "      <th>astrometric_primary_flag</th>\n",
              "      <th>astrometric_weight_al</th>\n",
              "      <th>astrometric_pseudo_colour</th>\n",
              "      <th>astrometric_pseudo_colour_error</th>\n",
              "      <th>...</th>\n",
              "      <th>phot_rp_mean_mag</th>\n",
              "      <th>phot_bp_rp_excess_factor</th>\n",
              "      <th>phot_proc_mode</th>\n",
              "      <th>bp_rp</th>\n",
              "      <th>bp_g</th>\n",
              "      <th>g_rp</th>\n",
              "      <th>radial_velocity</th>\n",
              "      <th>radial_velocity_error</th>\n",
              "      <th>rv_nb_transits</th>\n",
              "      <th>rv_template_teff</th>\n",
              "      <th>rv_template_logg</th>\n",
              "      <th>rv_template_fe_h</th>\n",
              "      <th>phot_variable_flag</th>\n",
              "      <th>l</th>\n",
              "      <th>b</th>\n",
              "      <th>ecl_lon</th>\n",
              "      <th>ecl_lat</th>\n",
              "      <th>priam_flags</th>\n",
              "      <th>teff_val</th>\n",
              "      <th>teff_percentile_lower</th>\n",
              "      <th>teff_percentile_upper</th>\n",
              "      <th>a_g_val</th>\n",
              "      <th>a_g_percentile_lower</th>\n",
              "      <th>a_g_percentile_upper</th>\n",
              "      <th>e_bp_min_rp_val</th>\n",
              "      <th>e_bp_min_rp_percentile_lower</th>\n",
              "      <th>e_bp_min_rp_percentile_upper</th>\n",
              "      <th>flame_flags</th>\n",
              "      <th>radius_val</th>\n",
              "      <th>radius_percentile_lower</th>\n",
              "      <th>radius_percentile_upper</th>\n",
              "      <th>lum_val</th>\n",
              "      <th>lum_percentile_lower</th>\n",
              "      <th>lum_percentile_upper</th>\n",
              "      <th>datalink_url</th>\n",
              "      <th>epoch_photometry_url</th>\n",
              "      <th>dist</th>\n",
              "      <th>dist_2264_center</th>\n",
              "      <th>PMemb</th>\n",
              "      <th>region</th>\n",
              "    </tr>\n",
              "  </thead>\n",
              "  <tbody>\n",
              "    <tr>\n",
              "      <th>0</th>\n",
              "      <td>3</td>\n",
              "      <td>1635721458409799680</td>\n",
              "      <td>b'Gaia DR2 3326740006577519360'</td>\n",
              "      <td>3326740006577519360</td>\n",
              "      <td>338009198</td>\n",
              "      <td>2015.5</td>\n",
              "      <td>100.293254</td>\n",
              "      <td>0.051974</td>\n",
              "      <td>9.883825</td>\n",
              "      <td>0.053140</td>\n",
              "      <td>1.166296</td>\n",
              "      <td>0.061081</td>\n",
              "      <td>19.094145</td>\n",
              "      <td>-1.772968</td>\n",
              "      <td>0.099508</td>\n",
              "      <td>-4.213214</td>\n",
              "      <td>0.093444</td>\n",
              "      <td>-0.301653</td>\n",
              "      <td>0.106379</td>\n",
              "      <td>-0.293946</td>\n",
              "      <td>0.308379</td>\n",
              "      <td>-0.403827</td>\n",
              "      <td>0.127463</td>\n",
              "      <td>-0.435419</td>\n",
              "      <td>0.316915</td>\n",
              "      <td>0.172105</td>\n",
              "      <td>-0.249948</td>\n",
              "      <td>156</td>\n",
              "      <td>156</td>\n",
              "      <td>154</td>\n",
              "      <td>2</td>\n",
              "      <td>17.077967</td>\n",
              "      <td>679.16113</td>\n",
              "      <td>0.137515</td>\n",
              "      <td>5.479145</td>\n",
              "      <td>31</td>\n",
              "      <td>False</td>\n",
              "      <td>37.789845</td>\n",
              "      <td>1.775599</td>\n",
              "      <td>0.013533</td>\n",
              "      <td>...</td>\n",
              "      <td>9.912222</td>\n",
              "      <td>1.151723</td>\n",
              "      <td>0</td>\n",
              "      <td>-0.000747</td>\n",
              "      <td>0.006741</td>\n",
              "      <td>-0.007487</td>\n",
              "      <td>NaN</td>\n",
              "      <td>NaN</td>\n",
              "      <td>0</td>\n",
              "      <td>NaN</td>\n",
              "      <td>NaN</td>\n",
              "      <td>NaN</td>\n",
              "      <td>b'NOT_AVAILABLE'</td>\n",
              "      <td>202.968913</td>\n",
              "      <td>2.235852</td>\n",
              "      <td>100.416360</td>\n",
              "      <td>-13.184037</td>\n",
              "      <td>100001.0</td>\n",
              "      <td>9670.667</td>\n",
              "      <td>9200.25</td>\n",
              "      <td>9831.00</td>\n",
              "      <td>0.3173</td>\n",
              "      <td>0.1884</td>\n",
              "      <td>0.4576</td>\n",
              "      <td>0.1583</td>\n",
              "      <td>0.0864</td>\n",
              "      <td>0.2110</td>\n",
              "      <td>NaN</td>\n",
              "      <td>NaN</td>\n",
              "      <td>NaN</td>\n",
              "      <td>NaN</td>\n",
              "      <td>NaN</td>\n",
              "      <td>NaN</td>\n",
              "      <td>NaN</td>\n",
              "      <td>b'https://gea.esac.esa.int/data-server/datalin...</td>\n",
              "      <td>b''</td>\n",
              "      <td>0.008433</td>\n",
              "      <td>0.008440</td>\n",
              "      <td>0.841</td>\n",
              "      <td>central</td>\n",
              "    </tr>\n",
              "    <tr>\n",
              "      <th>1</th>\n",
              "      <td>5</td>\n",
              "      <td>1635721458409799680</td>\n",
              "      <td>b'Gaia DR2 3326740075296996608'</td>\n",
              "      <td>3326740075296996608</td>\n",
              "      <td>669586837</td>\n",
              "      <td>2015.5</td>\n",
              "      <td>100.288331</td>\n",
              "      <td>0.080591</td>\n",
              "      <td>9.883731</td>\n",
              "      <td>0.081428</td>\n",
              "      <td>1.456877</td>\n",
              "      <td>0.078880</td>\n",
              "      <td>18.469517</td>\n",
              "      <td>-1.381548</td>\n",
              "      <td>0.147312</td>\n",
              "      <td>-3.806088</td>\n",
              "      <td>0.139559</td>\n",
              "      <td>-0.523801</td>\n",
              "      <td>0.102808</td>\n",
              "      <td>-0.408580</td>\n",
              "      <td>0.511314</td>\n",
              "      <td>-0.306236</td>\n",
              "      <td>0.384220</td>\n",
              "      <td>-0.553562</td>\n",
              "      <td>0.249792</td>\n",
              "      <td>0.076708</td>\n",
              "      <td>-0.439862</td>\n",
              "      <td>157</td>\n",
              "      <td>0</td>\n",
              "      <td>155</td>\n",
              "      <td>2</td>\n",
              "      <td>3.298759</td>\n",
              "      <td>213.85217</td>\n",
              "      <td>0.288888</td>\n",
              "      <td>3.174382</td>\n",
              "      <td>31</td>\n",
              "      <td>False</td>\n",
              "      <td>3.599010</td>\n",
              "      <td>1.383417</td>\n",
              "      <td>0.018468</td>\n",
              "      <td>...</td>\n",
              "      <td>15.368563</td>\n",
              "      <td>1.446566</td>\n",
              "      <td>0</td>\n",
              "      <td>2.314808</td>\n",
              "      <td>1.189182</td>\n",
              "      <td>1.125626</td>\n",
              "      <td>NaN</td>\n",
              "      <td>NaN</td>\n",
              "      <td>0</td>\n",
              "      <td>NaN</td>\n",
              "      <td>NaN</td>\n",
              "      <td>NaN</td>\n",
              "      <td>b'NOT_AVAILABLE'</td>\n",
              "      <td>202.966781</td>\n",
              "      <td>2.231493</td>\n",
              "      <td>100.411398</td>\n",
              "      <td>-13.184484</td>\n",
              "      <td>100001.0</td>\n",
              "      <td>3608.005</td>\n",
              "      <td>3417.00</td>\n",
              "      <td>4477.88</td>\n",
              "      <td>NaN</td>\n",
              "      <td>NaN</td>\n",
              "      <td>NaN</td>\n",
              "      <td>NaN</td>\n",
              "      <td>NaN</td>\n",
              "      <td>NaN</td>\n",
              "      <td>200111.0</td>\n",
              "      <td>1.125405</td>\n",
              "      <td>0.730631</td>\n",
              "      <td>1.254738</td>\n",
              "      <td>0.193366</td>\n",
              "      <td>0.171433</td>\n",
              "      <td>0.215299</td>\n",
              "      <td>b'https://gea.esac.esa.int/data-server/datalin...</td>\n",
              "      <td>b''</td>\n",
              "      <td>0.010309</td>\n",
              "      <td>0.010361</td>\n",
              "      <td>0.970</td>\n",
              "      <td>central</td>\n",
              "    </tr>\n",
              "    <tr>\n",
              "      <th>2</th>\n",
              "      <td>6</td>\n",
              "      <td>1635721458409799680</td>\n",
              "      <td>b'Gaia DR2 3326740002281694592'</td>\n",
              "      <td>3326740002281694592</td>\n",
              "      <td>535645129</td>\n",
              "      <td>2015.5</td>\n",
              "      <td>100.296823</td>\n",
              "      <td>0.050816</td>\n",
              "      <td>9.882133</td>\n",
              "      <td>0.050554</td>\n",
              "      <td>1.347839</td>\n",
              "      <td>0.056103</td>\n",
              "      <td>24.024263</td>\n",
              "      <td>-1.478468</td>\n",
              "      <td>0.096108</td>\n",
              "      <td>-3.855786</td>\n",
              "      <td>0.091301</td>\n",
              "      <td>-0.356103</td>\n",
              "      <td>0.201527</td>\n",
              "      <td>-0.289602</td>\n",
              "      <td>0.273360</td>\n",
              "      <td>-0.386346</td>\n",
              "      <td>0.137331</td>\n",
              "      <td>-0.413178</td>\n",
              "      <td>0.230126</td>\n",
              "      <td>0.124278</td>\n",
              "      <td>-0.257241</td>\n",
              "      <td>161</td>\n",
              "      <td>161</td>\n",
              "      <td>159</td>\n",
              "      <td>2</td>\n",
              "      <td>16.836754</td>\n",
              "      <td>676.96730</td>\n",
              "      <td>0.141880</td>\n",
              "      <td>6.011601</td>\n",
              "      <td>31</td>\n",
              "      <td>False</td>\n",
              "      <td>36.901455</td>\n",
              "      <td>1.779420</td>\n",
              "      <td>0.013208</td>\n",
              "      <td>...</td>\n",
              "      <td>10.136516</td>\n",
              "      <td>1.153539</td>\n",
              "      <td>1</td>\n",
              "      <td>-0.060998</td>\n",
              "      <td>-0.016715</td>\n",
              "      <td>-0.044283</td>\n",
              "      <td>NaN</td>\n",
              "      <td>NaN</td>\n",
              "      <td>0</td>\n",
              "      <td>NaN</td>\n",
              "      <td>NaN</td>\n",
              "      <td>NaN</td>\n",
              "      <td>b'NOT_AVAILABLE'</td>\n",
              "      <td>202.972026</td>\n",
              "      <td>2.238207</td>\n",
              "      <td>100.420088</td>\n",
              "      <td>-13.185468</td>\n",
              "      <td>100002.0</td>\n",
              "      <td>8748.333</td>\n",
              "      <td>7420.00</td>\n",
              "      <td>9705.00</td>\n",
              "      <td>0.0870</td>\n",
              "      <td>0.0379</td>\n",
              "      <td>0.2241</td>\n",
              "      <td>0.0435</td>\n",
              "      <td>0.0146</td>\n",
              "      <td>0.1121</td>\n",
              "      <td>NaN</td>\n",
              "      <td>NaN</td>\n",
              "      <td>NaN</td>\n",
              "      <td>NaN</td>\n",
              "      <td>NaN</td>\n",
              "      <td>NaN</td>\n",
              "      <td>NaN</td>\n",
              "      <td>b'https://gea.esac.esa.int/data-server/datalin...</td>\n",
              "      <td>b''</td>\n",
              "      <td>0.010362</td>\n",
              "      <td>0.010379</td>\n",
              "      <td>0.985</td>\n",
              "      <td>central</td>\n",
              "    </tr>\n",
              "    <tr>\n",
              "      <th>3</th>\n",
              "      <td>7</td>\n",
              "      <td>1635721458409799680</td>\n",
              "      <td>b'Gaia DR2 3326740075296996736'</td>\n",
              "      <td>3326740075296996736</td>\n",
              "      <td>289548265</td>\n",
              "      <td>2015.5</td>\n",
              "      <td>100.286887</td>\n",
              "      <td>0.092189</td>\n",
              "      <td>9.883634</td>\n",
              "      <td>0.082626</td>\n",
              "      <td>1.443122</td>\n",
              "      <td>0.093037</td>\n",
              "      <td>15.511223</td>\n",
              "      <td>-1.464500</td>\n",
              "      <td>0.173904</td>\n",
              "      <td>-3.853637</td>\n",
              "      <td>0.155394</td>\n",
              "      <td>-0.247701</td>\n",
              "      <td>0.274339</td>\n",
              "      <td>-0.372806</td>\n",
              "      <td>0.185210</td>\n",
              "      <td>-0.295910</td>\n",
              "      <td>0.125538</td>\n",
              "      <td>-0.424320</td>\n",
              "      <td>0.115379</td>\n",
              "      <td>0.086176</td>\n",
              "      <td>-0.158110</td>\n",
              "      <td>161</td>\n",
              "      <td>0</td>\n",
              "      <td>161</td>\n",
              "      <td>0</td>\n",
              "      <td>2.295916</td>\n",
              "      <td>199.38344</td>\n",
              "      <td>0.270272</td>\n",
              "      <td>1.541566</td>\n",
              "      <td>31</td>\n",
              "      <td>False</td>\n",
              "      <td>2.265055</td>\n",
              "      <td>1.282532</td>\n",
              "      <td>0.021110</td>\n",
              "      <td>...</td>\n",
              "      <td>15.966477</td>\n",
              "      <td>1.635123</td>\n",
              "      <td>0</td>\n",
              "      <td>2.294858</td>\n",
              "      <td>1.039610</td>\n",
              "      <td>1.255248</td>\n",
              "      <td>NaN</td>\n",
              "      <td>NaN</td>\n",
              "      <td>0</td>\n",
              "      <td>NaN</td>\n",
              "      <td>NaN</td>\n",
              "      <td>NaN</td>\n",
              "      <td>b'NOT_AVAILABLE'</td>\n",
              "      <td>202.966218</td>\n",
              "      <td>2.230183</td>\n",
              "      <td>100.409948</td>\n",
              "      <td>-13.184684</td>\n",
              "      <td>NaN</td>\n",
              "      <td>NaN</td>\n",
              "      <td>NaN</td>\n",
              "      <td>NaN</td>\n",
              "      <td>NaN</td>\n",
              "      <td>NaN</td>\n",
              "      <td>NaN</td>\n",
              "      <td>NaN</td>\n",
              "      <td>NaN</td>\n",
              "      <td>NaN</td>\n",
              "      <td>NaN</td>\n",
              "      <td>NaN</td>\n",
              "      <td>NaN</td>\n",
              "      <td>NaN</td>\n",
              "      <td>NaN</td>\n",
              "      <td>NaN</td>\n",
              "      <td>NaN</td>\n",
              "      <td>b'https://gea.esac.esa.int/data-server/datalin...</td>\n",
              "      <td>b''</td>\n",
              "      <td>0.011256</td>\n",
              "      <td>0.011328</td>\n",
              "      <td>0.891</td>\n",
              "      <td>central</td>\n",
              "    </tr>\n",
              "    <tr>\n",
              "      <th>4</th>\n",
              "      <td>10</td>\n",
              "      <td>1635721458409799680</td>\n",
              "      <td>b'Gaia DR2 3326740006577518848'</td>\n",
              "      <td>3326740006577518848</td>\n",
              "      <td>247139738</td>\n",
              "      <td>2015.5</td>\n",
              "      <td>100.303423</td>\n",
              "      <td>0.032362</td>\n",
              "      <td>9.878715</td>\n",
              "      <td>0.032030</td>\n",
              "      <td>1.309117</td>\n",
              "      <td>0.035986</td>\n",
              "      <td>36.378284</td>\n",
              "      <td>-1.716130</td>\n",
              "      <td>0.060408</td>\n",
              "      <td>-3.818738</td>\n",
              "      <td>0.054907</td>\n",
              "      <td>-0.332408</td>\n",
              "      <td>0.179211</td>\n",
              "      <td>-0.251688</td>\n",
              "      <td>0.339633</td>\n",
              "      <td>-0.384868</td>\n",
              "      <td>0.191113</td>\n",
              "      <td>-0.436175</td>\n",
              "      <td>0.246254</td>\n",
              "      <td>0.120941</td>\n",
              "      <td>-0.207602</td>\n",
              "      <td>171</td>\n",
              "      <td>0</td>\n",
              "      <td>169</td>\n",
              "      <td>2</td>\n",
              "      <td>-3.378519</td>\n",
              "      <td>109.59618</td>\n",
              "      <td>0.000000</td>\n",
              "      <td>0.000000</td>\n",
              "      <td>31</td>\n",
              "      <td>False</td>\n",
              "      <td>21.024837</td>\n",
              "      <td>1.445872</td>\n",
              "      <td>0.008072</td>\n",
              "      <td>...</td>\n",
              "      <td>14.217684</td>\n",
              "      <td>1.323796</td>\n",
              "      <td>0</td>\n",
              "      <td>1.658217</td>\n",
              "      <td>0.771934</td>\n",
              "      <td>0.886284</td>\n",
              "      <td>NaN</td>\n",
              "      <td>NaN</td>\n",
              "      <td>0</td>\n",
              "      <td>NaN</td>\n",
              "      <td>NaN</td>\n",
              "      <td>NaN</td>\n",
              "      <td>b'NOT_AVAILABLE'</td>\n",
              "      <td>202.978039</td>\n",
              "      <td>2.242434</td>\n",
              "      <td>100.427005</td>\n",
              "      <td>-13.188401</td>\n",
              "      <td>100001.0</td>\n",
              "      <td>4256.000</td>\n",
              "      <td>4174.00</td>\n",
              "      <td>4338.00</td>\n",
              "      <td>NaN</td>\n",
              "      <td>NaN</td>\n",
              "      <td>NaN</td>\n",
              "      <td>NaN</td>\n",
              "      <td>NaN</td>\n",
              "      <td>NaN</td>\n",
              "      <td>200111.0</td>\n",
              "      <td>1.384713</td>\n",
              "      <td>1.332858</td>\n",
              "      <td>1.439653</td>\n",
              "      <td>0.566788</td>\n",
              "      <td>0.530355</td>\n",
              "      <td>0.603220</td>\n",
              "      <td>b'https://gea.esac.esa.int/data-server/datalin...</td>\n",
              "      <td>b''</td>\n",
              "      <td>0.016197</td>\n",
              "      <td>0.016281</td>\n",
              "      <td>0.995</td>\n",
              "      <td>central</td>\n",
              "    </tr>\n",
              "  </tbody>\n",
              "</table>\n",
              "<p>5 rows × 101 columns</p>\n",
              "</div>"
            ],
            "text/plain": [
              "   col1          solution_id  ...  PMemb   region\n",
              "0     3  1635721458409799680  ...  0.841  central\n",
              "1     5  1635721458409799680  ...  0.970  central\n",
              "2     6  1635721458409799680  ...  0.985  central\n",
              "3     7  1635721458409799680  ...  0.891  central\n",
              "4    10  1635721458409799680  ...  0.995  central\n",
              "\n",
              "[5 rows x 101 columns]"
            ]
          },
          "metadata": {
            "tags": []
          },
          "execution_count": 4
        }
      ]
    },
    {
      "cell_type": "code",
      "metadata": {
        "id": "zOQIdhoH2PIj",
        "colab_type": "code",
        "colab": {
          "base_uri": "https://localhost:8080/",
          "height": 136
        },
        "outputId": "47d28a9a-cbe0-473b-b062-606d65bf19b9"
      },
      "source": [
        "ngc_2264.columns"
      ],
      "execution_count": 5,
      "outputs": [
        {
          "output_type": "execute_result",
          "data": {
            "text/plain": [
              "Index(['col1', 'solution_id', 'designation', 'source_id', 'random_index',\n",
              "       'ref_epoch', 'ra', 'ra_error', 'dec', 'dec_error',\n",
              "       ...\n",
              "       'radius_percentile_upper', 'lum_val', 'lum_percentile_lower',\n",
              "       'lum_percentile_upper', 'datalink_url', 'epoch_photometry_url', 'dist',\n",
              "       'dist_2264_center', 'PMemb', 'region'],\n",
              "      dtype='object', length=101)"
            ]
          },
          "metadata": {
            "tags": []
          },
          "execution_count": 5
        }
      ]
    },
    {
      "cell_type": "code",
      "metadata": {
        "id": "w36OuuTy2PJk",
        "colab_type": "code",
        "colab": {}
      },
      "source": [
        "ngc_2264['log_lum_val'] = np.log(ngc_2264['lum_val'])"
      ],
      "execution_count": 29,
      "outputs": []
    },
    {
      "cell_type": "code",
      "metadata": {
        "id": "76oTgQO12PIm",
        "colab_type": "code",
        "colab": {
          "base_uri": "https://localhost:8080/",
          "height": 142
        },
        "outputId": "2d77611c-6eb8-4b74-eb26-bca6b972b2c7"
      },
      "source": [
        "ngc_2264.groupby(['region']).pmra.describe()"
      ],
      "execution_count": 43,
      "outputs": [
        {
          "output_type": "execute_result",
          "data": {
            "text/html": [
              "<div>\n",
              "<style scoped>\n",
              "    .dataframe tbody tr th:only-of-type {\n",
              "        vertical-align: middle;\n",
              "    }\n",
              "\n",
              "    .dataframe tbody tr th {\n",
              "        vertical-align: top;\n",
              "    }\n",
              "\n",
              "    .dataframe thead th {\n",
              "        text-align: right;\n",
              "    }\n",
              "</style>\n",
              "<table border=\"1\" class=\"dataframe\">\n",
              "  <thead>\n",
              "    <tr style=\"text-align: right;\">\n",
              "      <th></th>\n",
              "      <th>count</th>\n",
              "      <th>mean</th>\n",
              "      <th>std</th>\n",
              "      <th>min</th>\n",
              "      <th>25%</th>\n",
              "      <th>50%</th>\n",
              "      <th>75%</th>\n",
              "      <th>max</th>\n",
              "    </tr>\n",
              "    <tr>\n",
              "      <th>region</th>\n",
              "      <th></th>\n",
              "      <th></th>\n",
              "      <th></th>\n",
              "      <th></th>\n",
              "      <th></th>\n",
              "      <th></th>\n",
              "      <th></th>\n",
              "      <th></th>\n",
              "    </tr>\n",
              "  </thead>\n",
              "  <tbody>\n",
              "    <tr>\n",
              "      <th>central</th>\n",
              "      <td>283.0</td>\n",
              "      <td>-1.775442</td>\n",
              "      <td>0.494330</td>\n",
              "      <td>-3.872328</td>\n",
              "      <td>-2.016607</td>\n",
              "      <td>-1.711330</td>\n",
              "      <td>-1.466776</td>\n",
              "      <td>-0.176533</td>\n",
              "    </tr>\n",
              "    <tr>\n",
              "      <th>lower</th>\n",
              "      <td>249.0</td>\n",
              "      <td>-2.214361</td>\n",
              "      <td>0.549343</td>\n",
              "      <td>-4.086947</td>\n",
              "      <td>-2.600919</td>\n",
              "      <td>-2.274315</td>\n",
              "      <td>-1.787814</td>\n",
              "      <td>-0.463119</td>\n",
              "    </tr>\n",
              "  </tbody>\n",
              "</table>\n",
              "</div>"
            ],
            "text/plain": [
              "         count      mean       std  ...       50%       75%       max\n",
              "region                              ...                              \n",
              "central  283.0 -1.775442  0.494330  ... -1.711330 -1.466776 -0.176533\n",
              "lower    249.0 -2.214361  0.549343  ... -2.274315 -1.787814 -0.463119\n",
              "\n",
              "[2 rows x 8 columns]"
            ]
          },
          "metadata": {
            "tags": []
          },
          "execution_count": 43
        }
      ]
    },
    {
      "cell_type": "code",
      "metadata": {
        "id": "wKPjQo112PIo",
        "colab_type": "code",
        "colab": {
          "base_uri": "https://localhost:8080/",
          "height": 142
        },
        "outputId": "31000df6-f713-49a4-ff5a-2cd3aa809faa"
      },
      "source": [
        "ngc_2264.groupby(['region']).pmdec.describe()"
      ],
      "execution_count": 44,
      "outputs": [
        {
          "output_type": "execute_result",
          "data": {
            "text/html": [
              "<div>\n",
              "<style scoped>\n",
              "    .dataframe tbody tr th:only-of-type {\n",
              "        vertical-align: middle;\n",
              "    }\n",
              "\n",
              "    .dataframe tbody tr th {\n",
              "        vertical-align: top;\n",
              "    }\n",
              "\n",
              "    .dataframe thead th {\n",
              "        text-align: right;\n",
              "    }\n",
              "</style>\n",
              "<table border=\"1\" class=\"dataframe\">\n",
              "  <thead>\n",
              "    <tr style=\"text-align: right;\">\n",
              "      <th></th>\n",
              "      <th>count</th>\n",
              "      <th>mean</th>\n",
              "      <th>std</th>\n",
              "      <th>min</th>\n",
              "      <th>25%</th>\n",
              "      <th>50%</th>\n",
              "      <th>75%</th>\n",
              "      <th>max</th>\n",
              "    </tr>\n",
              "    <tr>\n",
              "      <th>region</th>\n",
              "      <th></th>\n",
              "      <th></th>\n",
              "      <th></th>\n",
              "      <th></th>\n",
              "      <th></th>\n",
              "      <th></th>\n",
              "      <th></th>\n",
              "      <th></th>\n",
              "    </tr>\n",
              "  </thead>\n",
              "  <tbody>\n",
              "    <tr>\n",
              "      <th>central</th>\n",
              "      <td>283.0</td>\n",
              "      <td>-3.776546</td>\n",
              "      <td>0.280450</td>\n",
              "      <td>-4.632816</td>\n",
              "      <td>-3.960945</td>\n",
              "      <td>-3.773039</td>\n",
              "      <td>-3.586761</td>\n",
              "      <td>-3.058496</td>\n",
              "    </tr>\n",
              "    <tr>\n",
              "      <th>lower</th>\n",
              "      <td>249.0</td>\n",
              "      <td>-3.827631</td>\n",
              "      <td>0.296108</td>\n",
              "      <td>-4.635584</td>\n",
              "      <td>-4.032756</td>\n",
              "      <td>-3.813895</td>\n",
              "      <td>-3.606871</td>\n",
              "      <td>-2.967913</td>\n",
              "    </tr>\n",
              "  </tbody>\n",
              "</table>\n",
              "</div>"
            ],
            "text/plain": [
              "         count      mean       std  ...       50%       75%       max\n",
              "region                              ...                              \n",
              "central  283.0 -3.776546  0.280450  ... -3.773039 -3.586761 -3.058496\n",
              "lower    249.0 -3.827631  0.296108  ... -3.813895 -3.606871 -2.967913\n",
              "\n",
              "[2 rows x 8 columns]"
            ]
          },
          "metadata": {
            "tags": []
          },
          "execution_count": 44
        }
      ]
    },
    {
      "cell_type": "code",
      "metadata": {
        "id": "2aS467Kp2PIr",
        "colab_type": "code",
        "colab": {
          "base_uri": "https://localhost:8080/",
          "height": 142
        },
        "outputId": "0e98b11b-08ad-49d6-c1a1-fb8a5d0ad54a"
      },
      "source": [
        "ngc_2264.groupby(['region']).log_lum_val.describe()"
      ],
      "execution_count": 45,
      "outputs": [
        {
          "output_type": "execute_result",
          "data": {
            "text/html": [
              "<div>\n",
              "<style scoped>\n",
              "    .dataframe tbody tr th:only-of-type {\n",
              "        vertical-align: middle;\n",
              "    }\n",
              "\n",
              "    .dataframe tbody tr th {\n",
              "        vertical-align: top;\n",
              "    }\n",
              "\n",
              "    .dataframe thead th {\n",
              "        text-align: right;\n",
              "    }\n",
              "</style>\n",
              "<table border=\"1\" class=\"dataframe\">\n",
              "  <thead>\n",
              "    <tr style=\"text-align: right;\">\n",
              "      <th></th>\n",
              "      <th>count</th>\n",
              "      <th>mean</th>\n",
              "      <th>std</th>\n",
              "      <th>min</th>\n",
              "      <th>25%</th>\n",
              "      <th>50%</th>\n",
              "      <th>75%</th>\n",
              "      <th>max</th>\n",
              "    </tr>\n",
              "    <tr>\n",
              "      <th>region</th>\n",
              "      <th></th>\n",
              "      <th></th>\n",
              "      <th></th>\n",
              "      <th></th>\n",
              "      <th></th>\n",
              "      <th></th>\n",
              "      <th></th>\n",
              "      <th></th>\n",
              "    </tr>\n",
              "  </thead>\n",
              "  <tbody>\n",
              "    <tr>\n",
              "      <th>central</th>\n",
              "      <td>158.0</td>\n",
              "      <td>-0.745551</td>\n",
              "      <td>1.197910</td>\n",
              "      <td>-2.481360</td>\n",
              "      <td>-1.534765</td>\n",
              "      <td>-0.903348</td>\n",
              "      <td>-0.389661</td>\n",
              "      <td>4.735238</td>\n",
              "    </tr>\n",
              "    <tr>\n",
              "      <th>lower</th>\n",
              "      <td>138.0</td>\n",
              "      <td>-0.873538</td>\n",
              "      <td>0.939516</td>\n",
              "      <td>-2.254395</td>\n",
              "      <td>-1.622779</td>\n",
              "      <td>-1.142277</td>\n",
              "      <td>-0.329710</td>\n",
              "      <td>2.243774</td>\n",
              "    </tr>\n",
              "  </tbody>\n",
              "</table>\n",
              "</div>"
            ],
            "text/plain": [
              "         count      mean       std  ...       50%       75%       max\n",
              "region                              ...                              \n",
              "central  158.0 -0.745551  1.197910  ... -0.903348 -0.389661  4.735238\n",
              "lower    138.0 -0.873538  0.939516  ... -1.142277 -0.329710  2.243774\n",
              "\n",
              "[2 rows x 8 columns]"
            ]
          },
          "metadata": {
            "tags": []
          },
          "execution_count": 45
        }
      ]
    },
    {
      "cell_type": "code",
      "metadata": {
        "id": "hk4MMRuW2PJA",
        "colab_type": "code",
        "colab": {
          "base_uri": "https://localhost:8080/",
          "height": 297
        },
        "outputId": "6c75a531-94f1-4b63-9bb5-59b40599bc4d"
      },
      "source": [
        "ngc_2264.loc[ngc_2264.region == 'central', ['pmdec', 'pmra', 'log_lum_val', 'lum_val']].describe()"
      ],
      "execution_count": 37,
      "outputs": [
        {
          "output_type": "execute_result",
          "data": {
            "text/html": [
              "<div>\n",
              "<style scoped>\n",
              "    .dataframe tbody tr th:only-of-type {\n",
              "        vertical-align: middle;\n",
              "    }\n",
              "\n",
              "    .dataframe tbody tr th {\n",
              "        vertical-align: top;\n",
              "    }\n",
              "\n",
              "    .dataframe thead th {\n",
              "        text-align: right;\n",
              "    }\n",
              "</style>\n",
              "<table border=\"1\" class=\"dataframe\">\n",
              "  <thead>\n",
              "    <tr style=\"text-align: right;\">\n",
              "      <th></th>\n",
              "      <th>pmdec</th>\n",
              "      <th>pmra</th>\n",
              "      <th>log_lum_val</th>\n",
              "      <th>lum_val</th>\n",
              "    </tr>\n",
              "  </thead>\n",
              "  <tbody>\n",
              "    <tr>\n",
              "      <th>count</th>\n",
              "      <td>283.000000</td>\n",
              "      <td>283.000000</td>\n",
              "      <td>158.000000</td>\n",
              "      <td>158.000000</td>\n",
              "    </tr>\n",
              "    <tr>\n",
              "      <th>mean</th>\n",
              "      <td>-3.776546</td>\n",
              "      <td>-1.775442</td>\n",
              "      <td>-0.745551</td>\n",
              "      <td>2.393874</td>\n",
              "    </tr>\n",
              "    <tr>\n",
              "      <th>std</th>\n",
              "      <td>0.280450</td>\n",
              "      <td>0.494330</td>\n",
              "      <td>1.197910</td>\n",
              "      <td>11.870207</td>\n",
              "    </tr>\n",
              "    <tr>\n",
              "      <th>min</th>\n",
              "      <td>-4.632816</td>\n",
              "      <td>-3.872328</td>\n",
              "      <td>-2.481360</td>\n",
              "      <td>0.083629</td>\n",
              "    </tr>\n",
              "    <tr>\n",
              "      <th>25%</th>\n",
              "      <td>-3.960945</td>\n",
              "      <td>-2.016607</td>\n",
              "      <td>-1.534765</td>\n",
              "      <td>0.215524</td>\n",
              "    </tr>\n",
              "    <tr>\n",
              "      <th>50%</th>\n",
              "      <td>-3.773039</td>\n",
              "      <td>-1.711330</td>\n",
              "      <td>-0.903348</td>\n",
              "      <td>0.405218</td>\n",
              "    </tr>\n",
              "    <tr>\n",
              "      <th>75%</th>\n",
              "      <td>-3.586761</td>\n",
              "      <td>-1.466776</td>\n",
              "      <td>-0.389661</td>\n",
              "      <td>0.677341</td>\n",
              "    </tr>\n",
              "    <tr>\n",
              "      <th>max</th>\n",
              "      <td>-3.058496</td>\n",
              "      <td>-0.176533</td>\n",
              "      <td>4.735238</td>\n",
              "      <td>113.890510</td>\n",
              "    </tr>\n",
              "  </tbody>\n",
              "</table>\n",
              "</div>"
            ],
            "text/plain": [
              "            pmdec        pmra  log_lum_val     lum_val\n",
              "count  283.000000  283.000000   158.000000  158.000000\n",
              "mean    -3.776546   -1.775442    -0.745551    2.393874\n",
              "std      0.280450    0.494330     1.197910   11.870207\n",
              "min     -4.632816   -3.872328    -2.481360    0.083629\n",
              "25%     -3.960945   -2.016607    -1.534765    0.215524\n",
              "50%     -3.773039   -1.711330    -0.903348    0.405218\n",
              "75%     -3.586761   -1.466776    -0.389661    0.677341\n",
              "max     -3.058496   -0.176533     4.735238  113.890510"
            ]
          },
          "metadata": {
            "tags": []
          },
          "execution_count": 37
        }
      ]
    },
    {
      "cell_type": "code",
      "metadata": {
        "id": "NmYiK5uv2PJC",
        "colab_type": "code",
        "colab": {
          "base_uri": "https://localhost:8080/",
          "height": 297
        },
        "outputId": "add244c1-babc-4ab4-f7d1-d813674a0788"
      },
      "source": [
        "ngc_2264.loc[ngc_2264.region == 'lower', ['pmdec', 'pmra', 'log_lum_val', 'lum_val']].describe()"
      ],
      "execution_count": 38,
      "outputs": [
        {
          "output_type": "execute_result",
          "data": {
            "text/html": [
              "<div>\n",
              "<style scoped>\n",
              "    .dataframe tbody tr th:only-of-type {\n",
              "        vertical-align: middle;\n",
              "    }\n",
              "\n",
              "    .dataframe tbody tr th {\n",
              "        vertical-align: top;\n",
              "    }\n",
              "\n",
              "    .dataframe thead th {\n",
              "        text-align: right;\n",
              "    }\n",
              "</style>\n",
              "<table border=\"1\" class=\"dataframe\">\n",
              "  <thead>\n",
              "    <tr style=\"text-align: right;\">\n",
              "      <th></th>\n",
              "      <th>pmdec</th>\n",
              "      <th>pmra</th>\n",
              "      <th>log_lum_val</th>\n",
              "      <th>lum_val</th>\n",
              "    </tr>\n",
              "  </thead>\n",
              "  <tbody>\n",
              "    <tr>\n",
              "      <th>count</th>\n",
              "      <td>249.000000</td>\n",
              "      <td>249.000000</td>\n",
              "      <td>138.000000</td>\n",
              "      <td>138.000000</td>\n",
              "    </tr>\n",
              "    <tr>\n",
              "      <th>mean</th>\n",
              "      <td>-3.827631</td>\n",
              "      <td>-2.214361</td>\n",
              "      <td>-0.873538</td>\n",
              "      <td>0.725865</td>\n",
              "    </tr>\n",
              "    <tr>\n",
              "      <th>std</th>\n",
              "      <td>0.296108</td>\n",
              "      <td>0.549343</td>\n",
              "      <td>0.939516</td>\n",
              "      <td>1.155282</td>\n",
              "    </tr>\n",
              "    <tr>\n",
              "      <th>min</th>\n",
              "      <td>-4.635584</td>\n",
              "      <td>-4.086947</td>\n",
              "      <td>-2.254395</td>\n",
              "      <td>0.104937</td>\n",
              "    </tr>\n",
              "    <tr>\n",
              "      <th>25%</th>\n",
              "      <td>-4.032756</td>\n",
              "      <td>-2.600919</td>\n",
              "      <td>-1.622779</td>\n",
              "      <td>0.197350</td>\n",
              "    </tr>\n",
              "    <tr>\n",
              "      <th>50%</th>\n",
              "      <td>-3.813895</td>\n",
              "      <td>-2.274315</td>\n",
              "      <td>-1.142277</td>\n",
              "      <td>0.319109</td>\n",
              "    </tr>\n",
              "    <tr>\n",
              "      <th>75%</th>\n",
              "      <td>-3.606871</td>\n",
              "      <td>-1.787814</td>\n",
              "      <td>-0.329710</td>\n",
              "      <td>0.719146</td>\n",
              "    </tr>\n",
              "    <tr>\n",
              "      <th>max</th>\n",
              "      <td>-2.967913</td>\n",
              "      <td>-0.463119</td>\n",
              "      <td>2.243774</td>\n",
              "      <td>9.428853</td>\n",
              "    </tr>\n",
              "  </tbody>\n",
              "</table>\n",
              "</div>"
            ],
            "text/plain": [
              "            pmdec        pmra  log_lum_val     lum_val\n",
              "count  249.000000  249.000000   138.000000  138.000000\n",
              "mean    -3.827631   -2.214361    -0.873538    0.725865\n",
              "std      0.296108    0.549343     0.939516    1.155282\n",
              "min     -4.635584   -4.086947    -2.254395    0.104937\n",
              "25%     -4.032756   -2.600919    -1.622779    0.197350\n",
              "50%     -3.813895   -2.274315    -1.142277    0.319109\n",
              "75%     -3.606871   -1.787814    -0.329710    0.719146\n",
              "max     -2.967913   -0.463119     2.243774    9.428853"
            ]
          },
          "metadata": {
            "tags": []
          },
          "execution_count": 38
        }
      ]
    },
    {
      "cell_type": "markdown",
      "metadata": {
        "id": "DTscui-MKlqE",
        "colab_type": "text"
      },
      "source": [
        "#### Confidence Interval"
      ]
    },
    {
      "cell_type": "code",
      "metadata": {
        "id": "baZu1mBr2PIt",
        "colab_type": "code",
        "colab": {}
      },
      "source": [
        "def confidence_interval(sample): #reads a sample dataset\n",
        "    p = np.mean(sample) #mean\n",
        "    n = len(sample) #sample size\n",
        "    p_value = 0.95 #for 95% confidence interval\n",
        "    SD = np.std(sample, ddof=1) # using (n-1) in denominator  \n",
        "    t = stats.t.ppf(0.975,n-1)\n",
        "    SE = SD/(n**0.5) #standard error\n",
        "\n",
        "    lowbound = p - t*SE \n",
        "    highbound = p + t*SE \n",
        "\n",
        "    print('95% confidence interval:\\n','- ', np.round(p,2),'+- (',np.round(t,2),'x', np.round(SE,2),') \\n',\"- \", \n",
        "          [np.round(lowbound,2), np.round(highbound,2)])"
      ],
      "execution_count": 8,
      "outputs": []
    },
    {
      "cell_type": "code",
      "metadata": {
        "id": "RccVZ3R32PIv",
        "colab_type": "code",
        "colab": {
          "base_uri": "https://localhost:8080/",
          "height": 68
        },
        "outputId": "b83a2db3-b8f3-4a7b-fa28-b594d1f6ee92"
      },
      "source": [
        "confidence_interval(lower_region.pmra)"
      ],
      "execution_count": 9,
      "outputs": [
        {
          "output_type": "stream",
          "text": [
            "95% confidence interval:\n",
            " -  -2.21 +- ( 1.97 x 0.03 ) \n",
            " -  [-2.28, -2.15]\n"
          ],
          "name": "stdout"
        }
      ]
    },
    {
      "cell_type": "code",
      "metadata": {
        "id": "b-7Etknk2PIy",
        "colab_type": "code",
        "colab": {
          "base_uri": "https://localhost:8080/",
          "height": 68
        },
        "outputId": "75287b5d-f990-4ca2-ae11-c07fa98ab3e2"
      },
      "source": [
        "confidence_interval(central_region.pmra)"
      ],
      "execution_count": 10,
      "outputs": [
        {
          "output_type": "stream",
          "text": [
            "95% confidence interval:\n",
            " -  -1.78 +- ( 1.97 x 0.03 ) \n",
            " -  [-1.83, -1.72]\n"
          ],
          "name": "stdout"
        }
      ]
    },
    {
      "cell_type": "markdown",
      "metadata": {
        "id": "p9bCleAFLjoU",
        "colab_type": "text"
      },
      "source": [
        "#### Histograms"
      ]
    },
    {
      "cell_type": "code",
      "metadata": {
        "id": "0xTJGSfi2PJE",
        "colab_type": "code",
        "colab": {
          "base_uri": "https://localhost:8080/",
          "height": 293
        },
        "outputId": "2c0b5842-7316-4ea7-c201-ffc985a8d456"
      },
      "source": [
        "import seaborn as sns\n",
        "#plt.bar(central_region.pmra, lower_region.pmra], ['central_region','lower_region'])\n",
        "sns.barplot(x = 'region', y='pmdec', data = ngc_2264, ci= 95)\n",
        "plt.show()"
      ],
      "execution_count": 14,
      "outputs": [
        {
          "output_type": "display_data",
          "data": {
            "image/png": "[encoded data removed]",
            "text/plain": [
              "<Figure size 432x288 with 1 Axes>"
            ]
          },
          "metadata": {
            "tags": [],
            "needs_background": "light"
          }
        }
      ]
    },
    {
      "cell_type": "code",
      "metadata": {
        "scrolled": true,
        "id": "Ew_JA8bp2PJG",
        "colab_type": "code",
        "colab": {
          "base_uri": "https://localhost:8080/",
          "height": 287
        },
        "outputId": "104c839e-69eb-41c8-c823-3359f6d8a42c"
      },
      "source": [
        "sns.distplot(ngc_2264[ngc_2264['region'] == 'central'].pmdec)\n",
        "sns.distplot(ngc_2264[ngc_2264['region'] == 'lower'].pmdec)\n",
        "plt.show()"
      ],
      "execution_count": 15,
      "outputs": [
        {
          "output_type": "display_data",
          "data": {
            "image/png": "[encoded data removed]",
            "text/plain": [
              "<Figure size 432x288 with 1 Axes>"
            ]
          },
          "metadata": {
            "tags": [],
            "needs_background": "light"
          }
        }
      ]
    },
    {
      "cell_type": "code",
      "metadata": {
        "id": "vjZNCLaU2PJJ",
        "colab_type": "code",
        "colab": {
          "base_uri": "https://localhost:8080/",
          "height": 293
        },
        "outputId": "d22f9802-6213-4f5e-f335-61f7167af7a5"
      },
      "source": [
        "sns.barplot(x = 'region', y='pmra', data = ngc_2264, ci= 95)\n",
        "plt.show()"
      ],
      "execution_count": 17,
      "outputs": [
        {
          "output_type": "display_data",
          "data": {
            "image/png": "[encoded data removed]",
            "text/plain": [
              "<Figure size 432x288 with 1 Axes>"
            ]
          },
          "metadata": {
            "tags": [],
            "needs_background": "light"
          }
        }
      ]
    },
    {
      "cell_type": "code",
      "metadata": {
        "id": "UKhMLSNM2PJL",
        "colab_type": "code",
        "colab": {
          "base_uri": "https://localhost:8080/",
          "height": 287
        },
        "outputId": "34a06b97-8469-4923-fccd-e6e96e8bf4ba"
      },
      "source": [
        "sns.distplot(ngc_2264[ngc_2264['region'] == 'central'].pmra, label = 'central')\n",
        "sns.distplot(ngc_2264[ngc_2264['region'] == 'lower'].pmra, label = 'lower')\n",
        "plt.legend()\n",
        "plt.show()"
      ],
      "execution_count": 18,
      "outputs": [
        {
          "output_type": "display_data",
          "data": {
            "image/png": "[encoded data removed]",
            "text/plain": [
              "<Figure size 432x288 with 1 Axes>"
            ]
          },
          "metadata": {
            "tags": [],
            "needs_background": "light"
          }
        }
      ]
    },
    {
      "cell_type": "code",
      "metadata": {
        "id": "AdbswVHc2PJN",
        "colab_type": "code",
        "colab": {
          "base_uri": "https://localhost:8080/",
          "height": 429
        },
        "outputId": "7cbe90d8-7541-42bd-deac-6d403ba5595b"
      },
      "source": [
        "sns.barplot(x = 'region', y='log_lum_val', data = ngc_2264, ci= 95)"
      ],
      "execution_count": 42,
      "outputs": [
        {
          "output_type": "execute_result",
          "data": {
            "text/plain": [
              "<matplotlib.axes._subplots.AxesSubplot at 0x7f5339c822b0>"
            ]
          },
          "metadata": {
            "tags": []
          },
          "execution_count": 42
        },
        {
          "output_type": "display_data",
          "data": {
            "image/png": "[encoded data removed]",
            "text/plain": [
              "<Figure size 626.4x451.44 with 1 Axes>"
            ]
          },
          "metadata": {
            "tags": []
          }
        }
      ]
    },
    {
      "cell_type": "code",
      "metadata": {
        "id": "Sp4A_hQF2PJP",
        "colab_type": "code",
        "colab": {
          "base_uri": "https://localhost:8080/",
          "height": 408
        },
        "outputId": "d9c5d834-a34e-4d82-b166-803b56d60be7"
      },
      "source": [
        "sns.distplot(ngc_2264[ngc_2264['region'] == 'central'].log_lum_val, label = 'central')\n",
        "sns.distplot(ngc_2264[ngc_2264['region'] == 'lower'].log_lum_val, label = 'lower')\n",
        "plt.legend()\n",
        "plt.show()"
      ],
      "execution_count": 46,
      "outputs": [
        {
          "output_type": "display_data",
          "data": {
            "image/png": "[encoded data removed]",
            "text/plain": [
              "<Figure size 626.4x451.44 with 1 Axes>"
            ]
          },
          "metadata": {
            "tags": []
          }
        }
      ]
    },
    {
      "cell_type": "markdown",
      "metadata": {
        "id": "STiiSUpz2PJT",
        "colab_type": "text"
      },
      "source": [
        "#### Statistical Significance"
      ]
    },
    {
      "cell_type": "code",
      "metadata": {
        "id": "CPSkHYKq2PJU",
        "colab_type": "code",
        "colab": {}
      },
      "source": [
        "def summary_stats(sample): #taking sample dataset\n",
        "    n = len(sample)\n",
        "    mean = np.mean(sample)\n",
        "    sd = np.std(sample, ddof = 1) #bassel's correction\n",
        "    print('- n =', n)\n",
        "    print('- Mean =', mean)\n",
        "    print('- SD =', sd)"
      ],
      "execution_count": 22,
      "outputs": []
    },
    {
      "cell_type": "code",
      "metadata": {
        "id": "PuP4BmLJ2PJV",
        "colab_type": "code",
        "colab": {
          "base_uri": "https://localhost:8080/",
          "height": 355
        },
        "outputId": "6816a8a1-da0b-450e-8254-55041759ec43"
      },
      "source": [
        "print('pmra of central region')\n",
        "summary_stats(central_region.pmra)\n",
        "plt.hist(central_region.pmra)\n",
        "plt.xlabel('pmra')\n",
        "plt.ylabel('Frequency')\n",
        "plt.show()"
      ],
      "execution_count": 23,
      "outputs": [
        {
          "output_type": "stream",
          "text": [
            "pmra of central region\n",
            "- n = 283\n",
            "- Mean = -1.7754417800051077\n",
            "- SD = 0.4943302034075283\n"
          ],
          "name": "stdout"
        },
        {
          "output_type": "display_data",
          "data": {
            "image/png": "[encoded data removed]",
            "text/plain": [
              "<Figure size 432x288 with 1 Axes>"
            ]
          },
          "metadata": {
            "tags": [],
            "needs_background": "light"
          }
        }
      ]
    },
    {
      "cell_type": "code",
      "metadata": {
        "id": "vWLLOh9E2PJY",
        "colab_type": "code",
        "colab": {
          "base_uri": "https://localhost:8080/",
          "height": 355
        },
        "outputId": "cb45b953-d77e-490f-9bdc-ce363ec43183"
      },
      "source": [
        "print('pmra of lower region')\n",
        "summary_stats(lower_region.pmra)\n",
        "plt.hist(lower_region.pmra)\n",
        "plt.xlabel('pmra')\n",
        "plt.ylabel('Frequency')\n",
        "plt.show()"
      ],
      "execution_count": 24,
      "outputs": [
        {
          "output_type": "stream",
          "text": [
            "pmra of lower region\n",
            "- n = 249\n",
            "- Mean = -2.2143606714980293\n",
            "- SD = 0.5493433489781233\n"
          ],
          "name": "stdout"
        },
        {
          "output_type": "display_data",
          "data": {
            "image/png": "[encoded data removed]",
            "text/plain": [
              "<Figure size 432x288 with 1 Axes>"
            ]
          },
          "metadata": {
            "tags": [],
            "needs_background": "light"
          }
        }
      ]
    },
    {
      "cell_type": "code",
      "metadata": {
        "id": "J3qWZNIw2PJa",
        "colab_type": "code",
        "colab": {}
      },
      "source": [
        "from scipy import stats \n",
        "def difference_of_means_test(data1,data2,tails): #take two dataset and tails\n",
        "    #sample size\n",
        "    n1 = len(data1)\n",
        "    n2 = len(data2)\n",
        "    \n",
        "    x1 = np.mean(data1) #mean\n",
        "    x2 = np.mean(data2)\n",
        "\n",
        "    s1 = np.std(data1,ddof=1) # using n-1 in denominator\n",
        "    s2 = np.std(data2,ddof=1) # as we are using sample data\n",
        "\n",
        "    SE = np.sqrt(s1**2/n1 + s2**2/n2) #using formula\n",
        "    Tscore = np.abs((x2 - x1))/SE #taking absolute value than take the negetive\n",
        "    df = min(n1,n2) - 1           #to ensure we take the lowest tail p-value    \n",
        "    pvalue = tails*stats.t.cdf(-Tscore,df) \n",
        "\n",
        "    # practical significance\n",
        "    SDpooled = np.sqrt((s1**2*(n1-1) + s2**2*(n2-1))/(n1+n2-2)) #formula\n",
        "    Cohensd = (x2 - x1)/SDpooled #using formula\n",
        "    \n",
        "    print('T-score =',Tscore)\n",
        "    print('P-value =',pvalue)\n",
        "    print(\"Cohens' d =\",Cohensd)"
      ],
      "execution_count": 25,
      "outputs": []
    },
    {
      "cell_type": "code",
      "metadata": {
        "id": "jboqQJiO2PJc",
        "colab_type": "code",
        "colab": {
          "base_uri": "https://localhost:8080/",
          "height": 68
        },
        "outputId": "3630addd-6d0d-42fe-8b9a-d079fc6d3548"
      },
      "source": [
        "difference_of_means_test(central_region.pmra,lower_region.pmra,2)"
      ],
      "execution_count": 26,
      "outputs": [
        {
          "output_type": "stream",
          "text": [
            "T-score = 9.634519751514636\n",
            "P-value = 7.252021931350007e-19\n",
            "Cohens' d = -0.842784494217026\n"
          ],
          "name": "stdout"
        }
      ]
    },
    {
      "cell_type": "code",
      "metadata": {
        "id": "QivErNVp2PJe",
        "colab_type": "code",
        "colab": {
          "base_uri": "https://localhost:8080/",
          "height": 68
        },
        "outputId": "fe402b5b-39e3-40f8-8ccc-1356267bd0be"
      },
      "source": [
        "difference_of_means_test(central_region.pmdec,lower_region.pmdec,2)"
      ],
      "execution_count": 27,
      "outputs": [
        {
          "output_type": "stream",
          "text": [
            "T-score = 2.0352305890839957\n",
            "P-value = 0.042891081433235896\n",
            "Cohens' d = -0.17745399873391074\n"
          ],
          "name": "stdout"
        }
      ]
    },
    {
      "cell_type": "code",
      "metadata": {
        "id": "inBam_rrCEsO",
        "colab_type": "code",
        "colab": {
          "base_uri": "https://localhost:8080/",
          "height": 68
        },
        "outputId": "875447e5-c419-416d-e6db-28cf66b48685"
      },
      "source": [
        "difference_of_means_test(central_region.lum_val,lower_region.lum_val,2)"
      ],
      "execution_count": 40,
      "outputs": [
        {
          "output_type": "stream",
          "text": [
            "T-score = 2.3512997949014434\n",
            "P-value = 0.019491253959257687\n",
            "Cohens' d = -0.19184568019243484\n"
          ],
          "name": "stdout"
        }
      ]
    },
    {
      "cell_type": "code",
      "metadata": {
        "id": "4NpEi_B7K53G",
        "colab_type": "code",
        "colab": {
          "base_uri": "https://localhost:8080/",
          "height": 68
        },
        "outputId": "c3c50bc1-19ea-4c4c-9a93-2df10b2b410c"
      },
      "source": [
        "difference_of_means_test(np.log(central_region.lum_val),np.log(lower_region.lum_val),2)"
      ],
      "execution_count": 41,
      "outputs": [
        {
          "output_type": "stream",
          "text": [
            "T-score = 1.3788725668999338\n",
            "P-value = 0.16917641695152436\n",
            "Cohens' d = -0.11799405557883333\n"
          ],
          "name": "stdout"
        }
      ]
    },
    {
      "cell_type": "code",
      "metadata": {
        "id": "G5MW1NkF2PJg",
        "colab_type": "code",
        "colab": {
          "base_uri": "https://localhost:8080/",
          "height": 408
        },
        "outputId": "10904cf5-6130-4f29-8f2a-f2f1ad86e9e3"
      },
      "source": [
        "sns.set(rc={'figure.figsize':(8.7,6.27)})\n",
        "\n",
        "cmd = sns.scatterplot(x='bp_rp', y='phot_g_mean_mag', data=ngc_2264,\n",
        "                style = 'region', hue = 'log_lum_val')\n",
        "cmd.invert_yaxis()"
      ],
      "execution_count": 30,
      "outputs": [
        {
          "output_type": "display_data",
          "data": {
            "image/png": "[encoded data removed]",
            "text/plain": [
              "<Figure size 626.4x451.44 with 1 Axes>"
            ]
          },
          "metadata": {
            "tags": []
          }
        }
      ]
    },
    {
      "cell_type": "code",
      "metadata": {
        "id": "0dfxHCQr2PJi",
        "colab_type": "code",
        "colab": {
          "base_uri": "https://localhost:8080/",
          "height": 408
        },
        "outputId": "a8c3f89d-c736-4b34-d768-2f1e91542df9"
      },
      "source": [
        "skyplot = sns.scatterplot(x='ra', y='dec', data=ngc_2264,\n",
        "                hue = 'log_lum_val', style='region', palette = 'RdYlBu')\n",
        "skyplot.invert_xaxis()"
      ],
      "execution_count": 31,
      "outputs": [
        {
          "output_type": "display_data",
          "data": {
            "image/png": "[encoded data removed]",
            "text/plain": [
              "<Figure size 626.4x451.44 with 1 Axes>"
            ]
          },
          "metadata": {
            "tags": []
          }
        }
      ]
    },
    {
      "cell_type": "code",
      "metadata": {
        "id": "nlFb_7qo2PJm",
        "colab_type": "code",
        "colab": {}
      },
      "source": [
        ""
      ],
      "execution_count": null,
      "outputs": []
    }
  ]
}