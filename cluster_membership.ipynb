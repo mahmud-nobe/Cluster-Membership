{
  "nbformat": 4,
  "nbformat_minor": 0,
  "metadata": {
    "colab": {
      "name": "cluster membership.ipynb",
      "provenance": [],
      "authorship_tag": "ABX9TyNCkxNf7w6aVb9Pcgh2CR0a",
      "include_colab_link": true
    },
    "kernelspec": {
      "name": "python3",
      "display_name": "Python 3"
    }
  },
  "cells": [
    {
      "cell_type": "markdown",
      "metadata": {
        "id": "view-in-github",
        "colab_type": "text"
      },
      "source": [
        "<a href=\"https://colab.research.google.com/github/mahmud-nobe/Cluster-Membership/blob/master/cluster_membership.ipynb\" target=\"_parent\"><img src=\"https://colab.research.google.com/assets/colab-badge.svg\" alt=\"Open In Colab\"/></a>"
      ]
    },
    {
      "cell_type": "code",
      "metadata": {
        "id": "vXeNQpzr2iAV",
        "colab_type": "code",
        "colab": {}
      },
      "source": [
        "## Use random forest to create and evaluate new model\n",
        "from sklearn.ensemble import RandomForestRegressor\n",
        "\n",
        "\n",
        "# Use Random Forest on whole dataset and calculate the R^2 value \n",
        "# considering the out of bag (OOB) samples\n",
        "rfr = RandomForestRegressor(n_estimators = 100, oob_score = True)\n",
        "rfr.fit(features, targets)\n",
        "rfr.score(features, targets)"
      ],
      "execution_count": 0,
      "outputs": []
    }
  ]
}